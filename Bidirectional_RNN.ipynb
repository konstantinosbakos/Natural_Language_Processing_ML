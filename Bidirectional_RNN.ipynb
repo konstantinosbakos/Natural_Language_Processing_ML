{
  "cells": [
    {
      "cell_type": "markdown",
      "metadata": {
        "id": "1iwS6h_vWbC_"
      },
      "source": [
        "# Downloads"
      ]
    },
    {
      "cell_type": "code",
      "execution_count": 1,
      "metadata": {
        "colab": {
          "base_uri": "https://localhost:8080/"
        },
        "id": "lc_5pIffWW92",
        "outputId": "6cc199c2-9972-4ed7-abc7-75098dbc1e3d"
      },
      "outputs": [
        {
          "output_type": "stream",
          "name": "stdout",
          "text": [
            "Downloading...\n",
            "From: https://docs.google.com/uc?export=download&id=1QDPNVVFwpXD6XhFJMTmxjQZ64Fntmvp_\n",
            "To: /content/imdb-reviews.csv.zip\n",
            "100% 24.6M/24.6M [00:00<00:00, 32.2MB/s]\n",
            "Archive:  imdb-reviews.csv.zip\n",
            "  inflating: imdb-reviews.csv        \n"
          ]
        }
      ],
      "source": [
        "!gdown 'https://docs.google.com/uc?export=download&id=1QDPNVVFwpXD6XhFJMTmxjQZ64Fntmvp_' #Fetch the dataset.\n",
        "!unzip imdb-reviews.csv.zip"
      ]
    },
    {
      "cell_type": "code",
      "execution_count": 2,
      "metadata": {
        "colab": {
          "base_uri": "https://localhost:8080/"
        },
        "id": "3YIPmoupaxG7",
        "outputId": "d4679675-dce7-41b1-9d01-6c6bf92f39b2"
      },
      "outputs": [
        {
          "output_type": "stream",
          "name": "stdout",
          "text": [
            "--2024-10-14 13:40:28--  http://nlp.stanford.edu/data/glove.6B.zip\n",
            "Resolving nlp.stanford.edu (nlp.stanford.edu)... 171.64.67.140\n",
            "Connecting to nlp.stanford.edu (nlp.stanford.edu)|171.64.67.140|:80... connected.\n",
            "HTTP request sent, awaiting response... 302 Found\n",
            "Location: https://nlp.stanford.edu/data/glove.6B.zip [following]\n",
            "--2024-10-14 13:40:28--  https://nlp.stanford.edu/data/glove.6B.zip\n",
            "Connecting to nlp.stanford.edu (nlp.stanford.edu)|171.64.67.140|:443... connected.\n",
            "HTTP request sent, awaiting response... 301 Moved Permanently\n",
            "Location: https://downloads.cs.stanford.edu/nlp/data/glove.6B.zip [following]\n",
            "--2024-10-14 13:40:28--  https://downloads.cs.stanford.edu/nlp/data/glove.6B.zip\n",
            "Resolving downloads.cs.stanford.edu (downloads.cs.stanford.edu)... 171.64.64.22\n",
            "Connecting to downloads.cs.stanford.edu (downloads.cs.stanford.edu)|171.64.64.22|:443... connected.\n",
            "HTTP request sent, awaiting response... 200 OK\n",
            "Length: 862182613 (822M) [application/zip]\n",
            "Saving to: ‘glove.6B.zip’\n",
            "\n",
            "glove.6B.zip        100%[===================>] 822.24M  5.09MB/s    in 2m 39s  \n",
            "\n",
            "2024-10-14 13:43:07 (5.18 MB/s) - ‘glove.6B.zip’ saved [862182613/862182613]\n",
            "\n",
            "Archive:  glove.6B.zip\n",
            "  inflating: glove.6B.50d.txt        \n",
            "  inflating: glove.6B.100d.txt       \n",
            "  inflating: glove.6B.200d.txt       \n",
            "  inflating: glove.6B.300d.txt       \n"
          ]
        }
      ],
      "source": [
        "!wget http://nlp.stanford.edu/data/glove.6B.zip\n",
        "!unzip glove*.zip"
      ]
    },
    {
      "cell_type": "code",
      "execution_count": 3,
      "metadata": {
        "colab": {
          "base_uri": "https://localhost:8080/"
        },
        "id": "Q6C7_zaO_fUh",
        "outputId": "2cc59db3-52ec-4fbc-8aa6-9a8e5c15aea9"
      },
      "outputs": [
        {
          "output_type": "stream",
          "name": "stdout",
          "text": [
            "Collecting optuna\n",
            "  Downloading optuna-4.0.0-py3-none-any.whl.metadata (16 kB)\n",
            "Collecting alembic>=1.5.0 (from optuna)\n",
            "  Downloading alembic-1.13.3-py3-none-any.whl.metadata (7.4 kB)\n",
            "Collecting colorlog (from optuna)\n",
            "  Downloading colorlog-6.8.2-py3-none-any.whl.metadata (10 kB)\n",
            "Requirement already satisfied: numpy in /usr/local/lib/python3.10/dist-packages (from optuna) (1.26.4)\n",
            "Requirement already satisfied: packaging>=20.0 in /usr/local/lib/python3.10/dist-packages (from optuna) (24.1)\n",
            "Requirement already satisfied: sqlalchemy>=1.3.0 in /usr/local/lib/python3.10/dist-packages (from optuna) (2.0.35)\n",
            "Requirement already satisfied: tqdm in /usr/local/lib/python3.10/dist-packages (from optuna) (4.66.5)\n",
            "Requirement already satisfied: PyYAML in /usr/local/lib/python3.10/dist-packages (from optuna) (6.0.2)\n",
            "Collecting Mako (from alembic>=1.5.0->optuna)\n",
            "  Downloading Mako-1.3.5-py3-none-any.whl.metadata (2.9 kB)\n",
            "Requirement already satisfied: typing-extensions>=4 in /usr/local/lib/python3.10/dist-packages (from alembic>=1.5.0->optuna) (4.12.2)\n",
            "Requirement already satisfied: greenlet!=0.4.17 in /usr/local/lib/python3.10/dist-packages (from sqlalchemy>=1.3.0->optuna) (3.1.1)\n",
            "Requirement already satisfied: MarkupSafe>=0.9.2 in /usr/local/lib/python3.10/dist-packages (from Mako->alembic>=1.5.0->optuna) (2.1.5)\n",
            "Downloading optuna-4.0.0-py3-none-any.whl (362 kB)\n",
            "\u001b[2K   \u001b[90m━━━━━━━━━━━━━━━━━━━━━━━━━━━━━━━━━━━━━━━━\u001b[0m \u001b[32m362.8/362.8 kB\u001b[0m \u001b[31m12.9 MB/s\u001b[0m eta \u001b[36m0:00:00\u001b[0m\n",
            "\u001b[?25hDownloading alembic-1.13.3-py3-none-any.whl (233 kB)\n",
            "\u001b[2K   \u001b[90m━━━━━━━━━━━━━━━━━━━━━━━━━━━━━━━━━━━━━━━━\u001b[0m \u001b[32m233.2/233.2 kB\u001b[0m \u001b[31m15.8 MB/s\u001b[0m eta \u001b[36m0:00:00\u001b[0m\n",
            "\u001b[?25hDownloading colorlog-6.8.2-py3-none-any.whl (11 kB)\n",
            "Downloading Mako-1.3.5-py3-none-any.whl (78 kB)\n",
            "\u001b[2K   \u001b[90m━━━━━━━━━━━━━━━━━━━━━━━━━━━━━━━━━━━━━━━━\u001b[0m \u001b[32m78.6/78.6 kB\u001b[0m \u001b[31m4.9 MB/s\u001b[0m eta \u001b[36m0:00:00\u001b[0m\n",
            "\u001b[?25hInstalling collected packages: Mako, colorlog, alembic, optuna\n",
            "Successfully installed Mako-1.3.5 alembic-1.13.3 colorlog-6.8.2 optuna-4.0.0\n",
            "Collecting torchtext==0.6\n",
            "  Downloading torchtext-0.6.0-py3-none-any.whl.metadata (6.3 kB)\n",
            "Requirement already satisfied: tqdm in /usr/local/lib/python3.10/dist-packages (from torchtext==0.6) (4.66.5)\n",
            "Requirement already satisfied: requests in /usr/local/lib/python3.10/dist-packages (from torchtext==0.6) (2.32.3)\n",
            "Requirement already satisfied: torch in /usr/local/lib/python3.10/dist-packages (from torchtext==0.6) (2.4.1+cu121)\n",
            "Requirement already satisfied: numpy in /usr/local/lib/python3.10/dist-packages (from torchtext==0.6) (1.26.4)\n",
            "Requirement already satisfied: six in /usr/local/lib/python3.10/dist-packages (from torchtext==0.6) (1.16.0)\n",
            "Requirement already satisfied: sentencepiece in /usr/local/lib/python3.10/dist-packages (from torchtext==0.6) (0.2.0)\n",
            "Requirement already satisfied: charset-normalizer<4,>=2 in /usr/local/lib/python3.10/dist-packages (from requests->torchtext==0.6) (3.3.2)\n",
            "Requirement already satisfied: idna<4,>=2.5 in /usr/local/lib/python3.10/dist-packages (from requests->torchtext==0.6) (3.10)\n",
            "Requirement already satisfied: urllib3<3,>=1.21.1 in /usr/local/lib/python3.10/dist-packages (from requests->torchtext==0.6) (2.2.3)\n",
            "Requirement already satisfied: certifi>=2017.4.17 in /usr/local/lib/python3.10/dist-packages (from requests->torchtext==0.6) (2024.8.30)\n",
            "Requirement already satisfied: filelock in /usr/local/lib/python3.10/dist-packages (from torch->torchtext==0.6) (3.16.1)\n",
            "Requirement already satisfied: typing-extensions>=4.8.0 in /usr/local/lib/python3.10/dist-packages (from torch->torchtext==0.6) (4.12.2)\n",
            "Requirement already satisfied: sympy in /usr/local/lib/python3.10/dist-packages (from torch->torchtext==0.6) (1.13.3)\n",
            "Requirement already satisfied: networkx in /usr/local/lib/python3.10/dist-packages (from torch->torchtext==0.6) (3.3)\n",
            "Requirement already satisfied: jinja2 in /usr/local/lib/python3.10/dist-packages (from torch->torchtext==0.6) (3.1.4)\n",
            "Requirement already satisfied: fsspec in /usr/local/lib/python3.10/dist-packages (from torch->torchtext==0.6) (2024.6.1)\n",
            "Requirement already satisfied: MarkupSafe>=2.0 in /usr/local/lib/python3.10/dist-packages (from jinja2->torch->torchtext==0.6) (2.1.5)\n",
            "Requirement already satisfied: mpmath<1.4,>=1.1.0 in /usr/local/lib/python3.10/dist-packages (from sympy->torch->torchtext==0.6) (1.3.0)\n",
            "Downloading torchtext-0.6.0-py3-none-any.whl (64 kB)\n",
            "\u001b[2K   \u001b[90m━━━━━━━━━━━━━━━━━━━━━━━━━━━━━━━━━━━━━━━━\u001b[0m \u001b[32m64.2/64.2 kB\u001b[0m \u001b[31m2.6 MB/s\u001b[0m eta \u001b[36m0:00:00\u001b[0m\n",
            "\u001b[?25hInstalling collected packages: torchtext\n",
            "Successfully installed torchtext-0.6.0\n"
          ]
        }
      ],
      "source": [
        "!pip3 install optuna\n",
        "!pip3 install -U torchtext==0.6"
      ]
    },
    {
      "cell_type": "markdown",
      "metadata": {
        "id": "JInot4mwWol8"
      },
      "source": [
        "# Imports"
      ]
    },
    {
      "cell_type": "code",
      "execution_count": 4,
      "metadata": {
        "id": "gXH-frBQWqOk"
      },
      "outputs": [],
      "source": [
        "import copy                        as cp\n",
        "import torch\n",
        "import numpy                       as np\n",
        "import optuna\n",
        "import pandas                      as pd\n",
        "import seaborn                     as sns\n",
        "import torch.nn                    as nn\n",
        "import matplotlib.pyplot           as plt\n",
        "\n",
        "from sklearn                       import metrics\n",
        "from google.colab                  import drive\n",
        "from gensim.models                 import KeyedVectors\n",
        "from torchtext.data                import get_tokenizer\n",
        "from sklearn.metrics               import roc_curve\n",
        "from optuna.visualization          import plot_optimization_history\n",
        "from sklearn.model_selection       import train_test_split\n",
        "from gensim.scripts.glove2word2vec import glove2word2vec"
      ]
    },
    {
      "cell_type": "markdown",
      "metadata": {
        "id": "zLrQuGeXWqjX"
      },
      "source": [
        "# Data preprocessing"
      ]
    },
    {
      "cell_type": "code",
      "execution_count": 5,
      "metadata": {
        "id": "p00TGO6rW8Rp"
      },
      "outputs": [],
      "source": [
        "_ = torch.manual_seed(42)"
      ]
    },
    {
      "cell_type": "markdown",
      "metadata": {
        "id": "IJcP__YRc9d6"
      },
      "source": [
        "## Convert the ratings to Boolean"
      ]
    },
    {
      "cell_type": "code",
      "execution_count": 6,
      "metadata": {
        "colab": {
          "base_uri": "https://localhost:8080/",
          "height": 206
        },
        "id": "WYvLwZpq-Cif",
        "outputId": "86ce4260-c090-4c1a-c244-7c9bf3d8bafe"
      },
      "outputs": [
        {
          "output_type": "execute_result",
          "data": {
            "text/plain": [
              "                                                url  rating  \\\n",
              "0  http://www.imdb.com/title/tt0120623/usercomments     1.0   \n",
              "1  http://www.imdb.com/title/tt0043117/usercomments     1.0   \n",
              "2  http://www.imdb.com/title/tt0043117/usercomments     1.0   \n",
              "3  http://www.imdb.com/title/tt0835204/usercomments     0.0   \n",
              "4  http://www.imdb.com/title/tt0499603/usercomments     1.0   \n",
              "\n",
              "                                              review  \n",
              "0  I thought this was a quiet good movie. It was ...  \n",
              "1  Wagon Master is a very unique film amongst Joh...  \n",
              "2  This film has to be as near to perfect a film ...  \n",
              "3  I gave this 4 stars because it has a lot of in...  \n",
              "4  This movie is really genuine and random. It's ...  "
            ],
            "text/html": [
              "\n",
              "  <div id=\"df-8f589149-2f0f-42f9-98c8-d14417fe24b8\" class=\"colab-df-container\">\n",
              "    <div>\n",
              "<style scoped>\n",
              "    .dataframe tbody tr th:only-of-type {\n",
              "        vertical-align: middle;\n",
              "    }\n",
              "\n",
              "    .dataframe tbody tr th {\n",
              "        vertical-align: top;\n",
              "    }\n",
              "\n",
              "    .dataframe thead th {\n",
              "        text-align: right;\n",
              "    }\n",
              "</style>\n",
              "<table border=\"1\" class=\"dataframe\">\n",
              "  <thead>\n",
              "    <tr style=\"text-align: right;\">\n",
              "      <th></th>\n",
              "      <th>url</th>\n",
              "      <th>rating</th>\n",
              "      <th>review</th>\n",
              "    </tr>\n",
              "  </thead>\n",
              "  <tbody>\n",
              "    <tr>\n",
              "      <th>0</th>\n",
              "      <td>http://www.imdb.com/title/tt0120623/usercomments</td>\n",
              "      <td>1.0</td>\n",
              "      <td>I thought this was a quiet good movie. It was ...</td>\n",
              "    </tr>\n",
              "    <tr>\n",
              "      <th>1</th>\n",
              "      <td>http://www.imdb.com/title/tt0043117/usercomments</td>\n",
              "      <td>1.0</td>\n",
              "      <td>Wagon Master is a very unique film amongst Joh...</td>\n",
              "    </tr>\n",
              "    <tr>\n",
              "      <th>2</th>\n",
              "      <td>http://www.imdb.com/title/tt0043117/usercomments</td>\n",
              "      <td>1.0</td>\n",
              "      <td>This film has to be as near to perfect a film ...</td>\n",
              "    </tr>\n",
              "    <tr>\n",
              "      <th>3</th>\n",
              "      <td>http://www.imdb.com/title/tt0835204/usercomments</td>\n",
              "      <td>0.0</td>\n",
              "      <td>I gave this 4 stars because it has a lot of in...</td>\n",
              "    </tr>\n",
              "    <tr>\n",
              "      <th>4</th>\n",
              "      <td>http://www.imdb.com/title/tt0499603/usercomments</td>\n",
              "      <td>1.0</td>\n",
              "      <td>This movie is really genuine and random. It's ...</td>\n",
              "    </tr>\n",
              "  </tbody>\n",
              "</table>\n",
              "</div>\n",
              "    <div class=\"colab-df-buttons\">\n",
              "\n",
              "  <div class=\"colab-df-container\">\n",
              "    <button class=\"colab-df-convert\" onclick=\"convertToInteractive('df-8f589149-2f0f-42f9-98c8-d14417fe24b8')\"\n",
              "            title=\"Convert this dataframe to an interactive table.\"\n",
              "            style=\"display:none;\">\n",
              "\n",
              "  <svg xmlns=\"http://www.w3.org/2000/svg\" height=\"24px\" viewBox=\"0 -960 960 960\">\n",
              "    <path d=\"M120-120v-720h720v720H120Zm60-500h600v-160H180v160Zm220 220h160v-160H400v160Zm0 220h160v-160H400v160ZM180-400h160v-160H180v160Zm440 0h160v-160H620v160ZM180-180h160v-160H180v160Zm440 0h160v-160H620v160Z\"/>\n",
              "  </svg>\n",
              "    </button>\n",
              "\n",
              "  <style>\n",
              "    .colab-df-container {\n",
              "      display:flex;\n",
              "      gap: 12px;\n",
              "    }\n",
              "\n",
              "    .colab-df-convert {\n",
              "      background-color: #E8F0FE;\n",
              "      border: none;\n",
              "      border-radius: 50%;\n",
              "      cursor: pointer;\n",
              "      display: none;\n",
              "      fill: #1967D2;\n",
              "      height: 32px;\n",
              "      padding: 0 0 0 0;\n",
              "      width: 32px;\n",
              "    }\n",
              "\n",
              "    .colab-df-convert:hover {\n",
              "      background-color: #E2EBFA;\n",
              "      box-shadow: 0px 1px 2px rgba(60, 64, 67, 0.3), 0px 1px 3px 1px rgba(60, 64, 67, 0.15);\n",
              "      fill: #174EA6;\n",
              "    }\n",
              "\n",
              "    .colab-df-buttons div {\n",
              "      margin-bottom: 4px;\n",
              "    }\n",
              "\n",
              "    [theme=dark] .colab-df-convert {\n",
              "      background-color: #3B4455;\n",
              "      fill: #D2E3FC;\n",
              "    }\n",
              "\n",
              "    [theme=dark] .colab-df-convert:hover {\n",
              "      background-color: #434B5C;\n",
              "      box-shadow: 0px 1px 3px 1px rgba(0, 0, 0, 0.15);\n",
              "      filter: drop-shadow(0px 1px 2px rgba(0, 0, 0, 0.3));\n",
              "      fill: #FFFFFF;\n",
              "    }\n",
              "  </style>\n",
              "\n",
              "    <script>\n",
              "      const buttonEl =\n",
              "        document.querySelector('#df-8f589149-2f0f-42f9-98c8-d14417fe24b8 button.colab-df-convert');\n",
              "      buttonEl.style.display =\n",
              "        google.colab.kernel.accessAllowed ? 'block' : 'none';\n",
              "\n",
              "      async function convertToInteractive(key) {\n",
              "        const element = document.querySelector('#df-8f589149-2f0f-42f9-98c8-d14417fe24b8');\n",
              "        const dataTable =\n",
              "          await google.colab.kernel.invokeFunction('convertToInteractive',\n",
              "                                                    [key], {});\n",
              "        if (!dataTable) return;\n",
              "\n",
              "        const docLinkHtml = 'Like what you see? Visit the ' +\n",
              "          '<a target=\"_blank\" href=https://colab.research.google.com/notebooks/data_table.ipynb>data table notebook</a>'\n",
              "          + ' to learn more about interactive tables.';\n",
              "        element.innerHTML = '';\n",
              "        dataTable['output_type'] = 'display_data';\n",
              "        await google.colab.output.renderOutput(dataTable, element);\n",
              "        const docLink = document.createElement('div');\n",
              "        docLink.innerHTML = docLinkHtml;\n",
              "        element.appendChild(docLink);\n",
              "      }\n",
              "    </script>\n",
              "  </div>\n",
              "\n",
              "\n",
              "<div id=\"df-8e7c3fb3-b862-46c0-98cc-9481c4aea447\">\n",
              "  <button class=\"colab-df-quickchart\" onclick=\"quickchart('df-8e7c3fb3-b862-46c0-98cc-9481c4aea447')\"\n",
              "            title=\"Suggest charts\"\n",
              "            style=\"display:none;\">\n",
              "\n",
              "<svg xmlns=\"http://www.w3.org/2000/svg\" height=\"24px\"viewBox=\"0 0 24 24\"\n",
              "     width=\"24px\">\n",
              "    <g>\n",
              "        <path d=\"M19 3H5c-1.1 0-2 .9-2 2v14c0 1.1.9 2 2 2h14c1.1 0 2-.9 2-2V5c0-1.1-.9-2-2-2zM9 17H7v-7h2v7zm4 0h-2V7h2v10zm4 0h-2v-4h2v4z\"/>\n",
              "    </g>\n",
              "</svg>\n",
              "  </button>\n",
              "\n",
              "<style>\n",
              "  .colab-df-quickchart {\n",
              "      --bg-color: #E8F0FE;\n",
              "      --fill-color: #1967D2;\n",
              "      --hover-bg-color: #E2EBFA;\n",
              "      --hover-fill-color: #174EA6;\n",
              "      --disabled-fill-color: #AAA;\n",
              "      --disabled-bg-color: #DDD;\n",
              "  }\n",
              "\n",
              "  [theme=dark] .colab-df-quickchart {\n",
              "      --bg-color: #3B4455;\n",
              "      --fill-color: #D2E3FC;\n",
              "      --hover-bg-color: #434B5C;\n",
              "      --hover-fill-color: #FFFFFF;\n",
              "      --disabled-bg-color: #3B4455;\n",
              "      --disabled-fill-color: #666;\n",
              "  }\n",
              "\n",
              "  .colab-df-quickchart {\n",
              "    background-color: var(--bg-color);\n",
              "    border: none;\n",
              "    border-radius: 50%;\n",
              "    cursor: pointer;\n",
              "    display: none;\n",
              "    fill: var(--fill-color);\n",
              "    height: 32px;\n",
              "    padding: 0;\n",
              "    width: 32px;\n",
              "  }\n",
              "\n",
              "  .colab-df-quickchart:hover {\n",
              "    background-color: var(--hover-bg-color);\n",
              "    box-shadow: 0 1px 2px rgba(60, 64, 67, 0.3), 0 1px 3px 1px rgba(60, 64, 67, 0.15);\n",
              "    fill: var(--button-hover-fill-color);\n",
              "  }\n",
              "\n",
              "  .colab-df-quickchart-complete:disabled,\n",
              "  .colab-df-quickchart-complete:disabled:hover {\n",
              "    background-color: var(--disabled-bg-color);\n",
              "    fill: var(--disabled-fill-color);\n",
              "    box-shadow: none;\n",
              "  }\n",
              "\n",
              "  .colab-df-spinner {\n",
              "    border: 2px solid var(--fill-color);\n",
              "    border-color: transparent;\n",
              "    border-bottom-color: var(--fill-color);\n",
              "    animation:\n",
              "      spin 1s steps(1) infinite;\n",
              "  }\n",
              "\n",
              "  @keyframes spin {\n",
              "    0% {\n",
              "      border-color: transparent;\n",
              "      border-bottom-color: var(--fill-color);\n",
              "      border-left-color: var(--fill-color);\n",
              "    }\n",
              "    20% {\n",
              "      border-color: transparent;\n",
              "      border-left-color: var(--fill-color);\n",
              "      border-top-color: var(--fill-color);\n",
              "    }\n",
              "    30% {\n",
              "      border-color: transparent;\n",
              "      border-left-color: var(--fill-color);\n",
              "      border-top-color: var(--fill-color);\n",
              "      border-right-color: var(--fill-color);\n",
              "    }\n",
              "    40% {\n",
              "      border-color: transparent;\n",
              "      border-right-color: var(--fill-color);\n",
              "      border-top-color: var(--fill-color);\n",
              "    }\n",
              "    60% {\n",
              "      border-color: transparent;\n",
              "      border-right-color: var(--fill-color);\n",
              "    }\n",
              "    80% {\n",
              "      border-color: transparent;\n",
              "      border-right-color: var(--fill-color);\n",
              "      border-bottom-color: var(--fill-color);\n",
              "    }\n",
              "    90% {\n",
              "      border-color: transparent;\n",
              "      border-bottom-color: var(--fill-color);\n",
              "    }\n",
              "  }\n",
              "</style>\n",
              "\n",
              "  <script>\n",
              "    async function quickchart(key) {\n",
              "      const quickchartButtonEl =\n",
              "        document.querySelector('#' + key + ' button');\n",
              "      quickchartButtonEl.disabled = true;  // To prevent multiple clicks.\n",
              "      quickchartButtonEl.classList.add('colab-df-spinner');\n",
              "      try {\n",
              "        const charts = await google.colab.kernel.invokeFunction(\n",
              "            'suggestCharts', [key], {});\n",
              "      } catch (error) {\n",
              "        console.error('Error during call to suggestCharts:', error);\n",
              "      }\n",
              "      quickchartButtonEl.classList.remove('colab-df-spinner');\n",
              "      quickchartButtonEl.classList.add('colab-df-quickchart-complete');\n",
              "    }\n",
              "    (() => {\n",
              "      let quickchartButtonEl =\n",
              "        document.querySelector('#df-8e7c3fb3-b862-46c0-98cc-9481c4aea447 button');\n",
              "      quickchartButtonEl.style.display =\n",
              "        google.colab.kernel.accessAllowed ? 'block' : 'none';\n",
              "    })();\n",
              "  </script>\n",
              "</div>\n",
              "\n",
              "    </div>\n",
              "  </div>\n"
            ],
            "application/vnd.google.colaboratory.intrinsic+json": {
              "type": "dataframe",
              "variable_name": "df",
              "summary": "{\n  \"name\": \"df\",\n  \"rows\": 45008,\n  \"fields\": [\n    {\n      \"column\": \"url\",\n      \"properties\": {\n        \"dtype\": \"category\",\n        \"num_unique_values\": 5057,\n        \"samples\": [\n          \"http://www.imdb.com/title/tt0235918/usercomments\",\n          \"http://www.imdb.com/title/tt0203523/usercomments\",\n          \"http://www.imdb.com/title/tt0448075/usercomments\"\n        ],\n        \"semantic_type\": \"\",\n        \"description\": \"\"\n      }\n    },\n    {\n      \"column\": \"rating\",\n      \"properties\": {\n        \"dtype\": \"number\",\n        \"std\": 0.5000055467621549,\n        \"min\": 0.0,\n        \"max\": 1.0,\n        \"num_unique_values\": 2,\n        \"samples\": [\n          0.0,\n          1.0\n        ],\n        \"semantic_type\": \"\",\n        \"description\": \"\"\n      }\n    },\n    {\n      \"column\": \"review\",\n      \"properties\": {\n        \"dtype\": \"string\",\n        \"num_unique_values\": 44670,\n        \"samples\": [\n          \"One of the most definitive gangster films of the 80's, Scarface is very much a film of its time. The first thing you notice when you watch this film is that it is screaming at you, 'made in 1983'. The costumes, the music score and soundtrack, the hairstyles, make no mistake about it this is a film all about crime in the 80's and while it should have dated horribly it hasn't. This is still a superb film. While Georgio Moroder's music has dated a fair bit, it still compliments the story of Tony Montana well thanks to the superb screenplay by Oliver Stone and the first class direction of Brian De Palma, one of two films that he has made with Pacino (the other being the fantastic Carlito's Way). All of De Palma's trademarks are here; the strong language, the graphic violence (more on that later), the stylish excesses such as grandiose set pieces and of course the stylish camera work.<br /><br />Pacino dominates the film and I mean that literally. He is the dominant star of this film. His performance over the top, this is one of those films were Pacino doesn't so much say his lines as he does shouts them, this time with a superb Cuban accent. However, this is Pacino and he does it fantastically. Only he could go this far over the top and still come away from the film with his acting integrity in tact. While some may complain about his shouting of his lines and the sheer excess of it all, this is an excessive film. Take a look at the production design of Tony's house, take a look at the violence in this film. The chainsaw incident is downright brutal and their is blood everywhere. The shoot out at the end has bodies going down at a rate that is more akin to Schwarzenegger and Stallone in the Rambo films. Take a look at the amount of coke that is displayed in the film so Pacino's performance I suppose is perfect for the film. He is supported by actors who are more akin to saying their lines in a more controlled way. Steven Bauer, in particularly, as Manny, Tony's best friend, is the stand out of the supporting cast. His performance is so controlled and quiet in a De Niro sort of way it is a wonder how he ended up doing straight to video soft porn. Michelle Pfeiffer, of course, adds the glamor, Robert Loggia adds gravitas as usual and Mary Elizabeth Mastrantonio makes a great debut as Tony's sister.<br /><br />Of course this is more than just a film about excess. There is more to it than drugs, violence, chainsaw assaults and a big great shoot out. This is a film about the darker side of the American dream. In many ways it puts it on a thematic par with The Godfather films. Tony finds himself coming to America, getting it all, living the American dream and then losing it all in violent fashion, and by saying he loses it all, I mean he loses it all. He kills his best friend, his sister is killed, his empire crumbles, literally, around him and to top it of he is killed in his own mansion, bullets ripping through him. <br /><br />Without doubt Scarface is one of the key films of the early 80's. Sure, it doesn't have the subtleties of The Godfather films, but this is still a fine film and one that is worth going to again and again.\",\n          \"A good story, well-acted with unexpected character twists eg. vicious murderous gangster Bryan Brown teaching his son macrame. Although it succeeds as an action drama where you hope the good guy (Ledger) and his gilrfriend succeed, it also has some hilarious ironic black humour eg. the bank robbers who become radio competition \\\"winners\\\" and their reaction, the busker's revenge etc. Well worth watching.\"\n        ],\n        \"semantic_type\": \"\",\n        \"description\": \"\"\n      }\n    }\n  ]\n}"
            }
          },
          "metadata": {},
          "execution_count": 6
        }
      ],
      "source": [
        "df        = pd.read_csv('imdb-reviews.csv',sep='\\t')\n",
        "df.rating = df.rating.replace([0,1,2,3,4],0)      #0 for the negative reviews\n",
        "df.rating = df.rating.replace([6,7,8,9,10],1)     #1 for the positive reviews\n",
        "\n",
        "df.head(5)"
      ]
    },
    {
      "cell_type": "markdown",
      "metadata": {
        "id": "2PV4Hgc5dJ0M"
      },
      "source": [
        "## Transform from Glove to Word2Vec"
      ]
    },
    {
      "cell_type": "code",
      "execution_count": 7,
      "metadata": {
        "id": "Q2W2BDbvdEhL"
      },
      "outputs": [],
      "source": [
        "glove_input_file = 'glove.6B.300d.txt'\n",
        "w2v_output_file  = 'glv_with_w2v_format.txt'\n",
        "\n",
        "glove = KeyedVectors.load_word2vec_format(glove_input_file, binary=False, no_header=True)"
      ]
    },
    {
      "cell_type": "markdown",
      "metadata": {
        "id": "ZqhLpbamdQUx"
      },
      "source": [
        "## Tokenizing the reviews"
      ]
    },
    {
      "cell_type": "code",
      "execution_count": 8,
      "metadata": {
        "id": "bOI6JRb8dSS1"
      },
      "outputs": [],
      "source": [
        "def tokenize_reviews(reviews):\n",
        "    tokenized_reviews = []\n",
        "\n",
        "    tokenizer         = get_tokenizer(\"basic_english\")\n",
        "\n",
        "    for review in reviews:\n",
        "        tokenized_reviews.append(tokenizer(review))\n",
        "\n",
        "    return tokenized_reviews\n",
        "\n",
        "tokenized_reviews     = tokenize_reviews(df.review)"
      ]
    },
    {
      "cell_type": "markdown",
      "metadata": {
        "id": "3kHphnh9dup6"
      },
      "source": [
        "## Create X and Y"
      ]
    },
    {
      "cell_type": "code",
      "execution_count": 9,
      "metadata": {
        "id": "IPXoognCdxg_"
      },
      "outputs": [],
      "source": [
        "x = tokenized_reviews\n",
        "y = torch.Tensor(df.rating)     #Turn list of ratings to torch tensor.\n",
        "x_train, x_test, y_train, y_test = train_test_split(x,y, test_size=0.2, random_state=12345)\n",
        "                                #Split to train and test."
      ]
    },
    {
      "cell_type": "markdown",
      "metadata": {
        "id": "UigRCQqudYkO"
      },
      "source": [
        "## Vectorize using Word2Vec(-GloVe)"
      ]
    },
    {
      "cell_type": "code",
      "execution_count": 10,
      "metadata": {
        "id": "0S3ZDaZHdip5",
        "colab": {
          "base_uri": "https://localhost:8080/"
        },
        "outputId": "f2d3f487-6852-4478-f904-b66ad75208a3"
      },
      "outputs": [
        {
          "output_type": "stream",
          "name": "stderr",
          "text": [
            "<ipython-input-10-610877e9017e>:9: UserWarning: The given NumPy array is not writable, and PyTorch does not support non-writable tensors. This means writing to this tensor will result in undefined behavior. You may want to copy the array to protect its data or make it writable before converting it to a tensor. This type of warning will be suppressed for the rest of this program. (Triggered internally at ../torch/csrc/utils/tensor_numpy.cpp:206.)\n",
            "  vec_text.append(torch.Tensor(glove.get_vector(word)))                   #Find the glove vector of each word.\n"
          ]
        }
      ],
      "source": [
        "def vectorize_reviews(tokenized_reviews):\n",
        "    review_vectors = []\n",
        "\n",
        "    for text in tokenized_reviews:\n",
        "        vec_text   = []\n",
        "\n",
        "        for word in text:\n",
        "            if word in glove.key_to_index:\n",
        "                vec_text.append(torch.Tensor(glove.get_vector(word)))                   #Find the glove vector of each word.\n",
        "        vect = torch.stack(vec_text)                                                    #Store the result for each word.\n",
        "        review_vectors.append(torch.sum((vect-torch.mean(vect))/torch.std(vect),dim=0)) #Normalize the data for the review.\n",
        "\n",
        "    return review_vectors\n",
        "\n",
        "#https://github.com/pytorch/pytorch/issues/47160                    <<                   Concering probable warning.\n",
        "\n",
        "x_train     = torch.stack(vectorize_reviews(x_train))\n",
        "x_test      = torch.stack(vectorize_reviews(x_test))"
      ]
    },
    {
      "cell_type": "markdown",
      "metadata": {
        "id": "XjJ-7C5sW0-n"
      },
      "source": [
        "# Bidirectional Recurrent Neural Network"
      ]
    },
    {
      "cell_type": "code",
      "execution_count": 11,
      "metadata": {
        "id": "MnBrR4zwJS26"
      },
      "outputs": [],
      "source": [
        "class my_rnn(nn.Module):\n",
        "    def __init__(self, cell_type, input_size, num_layers, hidden_size, output_size):\n",
        "        super(my_rnn, self).__init__()\n",
        "\n",
        "        self.cells     = {\n",
        "            \"GRU\"  : nn.GRU,\n",
        "            \"LSTM\" : nn.LSTM\n",
        "        }\n",
        "        self.cell_type = cell_type\n",
        "        self.rnn       = self.cells[cell_type]( #Pick the specific model.\n",
        "            input_size    = input_size,         #Number of features for each time step.\n",
        "            num_layers    = num_layers,\n",
        "            hidden_size   = hidden_size,        #RNN hidden units.\n",
        "            dropout       = 0.3,\n",
        "            batch_first   = True,               #(batch, time_step, input_size)\n",
        "            bidirectional = True\n",
        "        )\n",
        "        self.lin       = nn.Linear(hidden_size*2,output_size)\n",
        "        self.sig       = nn.Sigmoid()\n",
        "\n",
        "    def forward(self,x):\n",
        "        r_out, h_n = self.rnn(x)\n",
        "        out        = self.lin(r_out[:, -1, :])\n",
        "\n",
        "        return self.sig(out)"
      ]
    },
    {
      "cell_type": "markdown",
      "source": [
        "##Train the model using Optuna"
      ],
      "metadata": {
        "id": "9Di-fA6V7lvK"
      }
    },
    {
      "cell_type": "code",
      "execution_count": 12,
      "metadata": {
        "id": "sM8mUtlwsyhU",
        "colab": {
          "base_uri": "https://localhost:8080/"
        },
        "outputId": "8b3e2794-cefa-4c66-e8b2-a8fd13ed720a"
      },
      "outputs": [
        {
          "output_type": "stream",
          "name": "stderr",
          "text": [
            "[I 2024-10-14 13:49:55,286] A new study created in memory with name: no-name-4f72befa-754d-4bea-94ee-2bccecd7e1a1\n"
          ]
        },
        {
          "output_type": "stream",
          "name": "stdout",
          "text": [
            "my_rnn(\n",
            "  (rnn): LSTM(300, 16, num_layers=3, batch_first=True, dropout=0.3, bidirectional=True)\n",
            "  (lin): Linear(in_features=32, out_features=1, bias=True)\n",
            "  (sig): Sigmoid()\n",
            ")\n",
            "Epoch:  0 | train loss: 0.6896 | test loss: 0.6742 | test accuracy: 0.67\n",
            "Epoch:  1 | train loss: 0.6302 | test loss: 0.5746 | test accuracy: 0.71\n",
            "Epoch:  2 | train loss: 0.5721 | test loss: 0.5149 | test accuracy: 0.76\n",
            "Epoch:  3 | train loss: 0.5330 | test loss: 0.4739 | test accuracy: 0.79\n",
            "Epoch:  4 | train loss: 0.5129 | test loss: 0.4459 | test accuracy: 0.81\n",
            "Epoch:  5 | train loss: 0.4989 | test loss: 0.4429 | test accuracy: 0.80\n",
            "Epoch:  6 | train loss: 0.4874 | test loss: 0.4232 | test accuracy: 0.82\n",
            "Epoch:  7 | train loss: 0.4821 | test loss: 0.4274 | test accuracy: 0.82\n",
            "Epoch:  8 | train loss: 0.4736 | test loss: 0.4243 | test accuracy: 0.82\n",
            "Epoch:  9 | train loss: 0.4722 | test loss: 0.4233 | test accuracy: 0.82\n",
            "Epoch:  10 | train loss: 0.4678 | test loss: 0.4146 | test accuracy: 0.82\n",
            "Epoch:  11 | train loss: 0.4609 | test loss: 0.4156 | test accuracy: 0.82\n",
            "Epoch:  12 | train loss: 0.4581 | test loss: 0.4095 | test accuracy: 0.83\n",
            "Epoch:  13 | train loss: 0.4528 | test loss: 0.4326 | test accuracy: 0.82\n",
            "Epoch:  14 | train loss: 0.4513 | test loss: 0.4138 | test accuracy: 0.83\n",
            "Epoch:  15 | train loss: 0.4485 | test loss: 0.4119 | test accuracy: 0.83\n",
            "Epoch:  16 | train loss: 0.4443 | test loss: 0.4113 | test accuracy: 0.84\n",
            "Epoch:  17 | train loss: 0.4414 | test loss: 0.4101 | test accuracy: 0.83\n",
            "Epoch:  18 | train loss: 0.4416 | test loss: 0.4100 | test accuracy: 0.83\n",
            "Epoch:  19 | train loss: 0.4396 | test loss: 0.4040 | test accuracy: 0.84\n",
            "Epoch:  20 | train loss: 0.4384 | test loss: 0.4105 | test accuracy: 0.83\n",
            "Epoch:  21 | train loss: 0.4378 | test loss: 0.4028 | test accuracy: 0.84\n",
            "Epoch:  22 | train loss: 0.4344 | test loss: 0.4081 | test accuracy: 0.84\n",
            "Epoch:  23 | train loss: 0.4454 | test loss: 0.4078 | test accuracy: 0.84\n",
            "Epoch:  24 | train loss: 0.4428 | test loss: 0.4033 | test accuracy: 0.84\n",
            "Epoch:  25 | train loss: 0.4373 | test loss: 0.4096 | test accuracy: 0.84\n",
            "Epoch:  26 | train loss: 0.4347 | test loss: 0.4026 | test accuracy: 0.84\n",
            "Epoch:  27 | train loss: 0.4378 | test loss: 0.4088 | test accuracy: 0.84\n",
            "Epoch:  28 | train loss: 0.4342 | test loss: 0.4019 | test accuracy: 0.84\n"
          ]
        },
        {
          "output_type": "stream",
          "name": "stderr",
          "text": [
            "[I 2024-10-14 14:19:39,626] Trial 0 finished with value: 0.8357031770717618 and parameters: {'batch_size': 8, 'hidden_size': 16, 'cell_type': 'LSTM', 'LR': 5e-05, 'clip_value': 4}. Best is trial 0 with value: 0.8357031770717618.\n"
          ]
        },
        {
          "output_type": "stream",
          "name": "stdout",
          "text": [
            "Epoch:  29 | train loss: 0.4334 | test loss: 0.4091 | test accuracy: 0.84\n"
          ]
        }
      ],
      "source": [
        "#This is a demo run using the best hyperparameters found.\n",
        "#If the user wishes to conduct a hyperparameter optimisation, they are advised to use more values and more number of trials.\n",
        "#Next to the hyperparameters, there can be found values used in various steps of hyperparameter optimisation.\n",
        "\n",
        "net_dict        = {}                                                                                  #Save the RNNs.\n",
        "test_loss_dict  = {}                                                                                  #Save the test  loss of each RNN.\n",
        "train_loss_dict = {}                                                                                  #Save the train loss of each RNN.\n",
        "\n",
        "def get_accuracy(y_true, y_prob):                                                                     #Get the accuracy of the RNN using sklearn.\n",
        "    accuracy = metrics.accuracy_score(y_true, y_prob >= 0.5)\n",
        "    return accuracy\n",
        "\n",
        "def objective(trial):\n",
        "    global x_train, y_train, x_test, y_test                                                           #Declare the global variables.\n",
        "\n",
        "    batch_size   = trial.suggest_categorical('batch_size',[8])                                        #16,32,64,256\n",
        "\n",
        "    dataset      = torch.utils.data.TensorDataset(x_train, y_train)\n",
        "    train_loader = torch.utils.data.DataLoader(dataset=dataset, batch_size=batch_size, shuffle=False) #Create a dataloader.\n",
        "\n",
        "    input_size   = 300\n",
        "    num_layers   = 3                                                                                  #2\n",
        "    hidden_size  = trial.suggest_categorical('hidden_size', [16])                                     #32\n",
        "    output_size  = 1\n",
        "    cell_type    = trial.suggest_categorical('cell_type', ['LSTM'])                                   #'GRU'\n",
        "\n",
        "    net          = my_rnn(cell_type, input_size, num_layers, hidden_size, output_size)\n",
        "\n",
        "    LR           = trial.suggest_categorical('LR', [0.00005])                                         #0.001,0.0005,0.0001,0.00001\n",
        "    EPOCH        = 30                                                                                 #25,50,75,100\n",
        "    loss_func    = nn.BCELoss()\n",
        "    optimizer    = torch.optim.Adam(net.parameters(), lr=LR, weight_decay=1e-5)                       #weight_decay=1e-6\n",
        "    clip_value   = trial.suggest_categorical('clip_value', [4])\n",
        "\n",
        "    print(net)\n",
        "\n",
        "    net.train()\n",
        "\n",
        "    test_losses   = []\n",
        "    train_losses  = []\n",
        "    accuracy_list = []\n",
        "\n",
        "    for epoch in range(EPOCH):\n",
        "        batch_loss = []\n",
        "\n",
        "        for x, y in train_loader:\n",
        "            optimizer.zero_grad()\n",
        "\n",
        "            x = x.view(x.size(0), -1)\n",
        "            x = x[:,None,:]\n",
        "\n",
        "            output = net(x).flatten()\n",
        "            loss = loss_func(output, y)\n",
        "            batch_loss.append(loss.item())\n",
        "\n",
        "            loss.backward()\n",
        "            nn.utils.clip_grad_norm_(net.parameters(), clip_value)\n",
        "            optimizer.step()\n",
        "\n",
        "        train_losses.append(sum(batch_loss)/len(train_loader))\n",
        "\n",
        "        with torch.no_grad(): #Test the RNN.\n",
        "            net.eval()\n",
        "\n",
        "            x_test = x_test.view(x_test.size(0), -1)\n",
        "            x_test = x_test[:,None,:]\n",
        "            test_output = net(x_test).flatten()\n",
        "\n",
        "            accuracy  = get_accuracy(y_test,test_output)\n",
        "            accuracy_list.append(accuracy)\n",
        "\n",
        "            test_loss = loss_func(test_output,y_test)\n",
        "            test_losses.append(test_loss.item())\n",
        "            print('Epoch: ', epoch, '| train loss: %.4f' % (train_losses[-1]), '| test loss: %.4f' % (test_losses[-1]), '| test accuracy: %.2f' % accuracy)\n",
        "\n",
        "            net.train()\n",
        "\n",
        "    net_dict       [(('batch_size',batch_size),('hidden_size', hidden_size), ('cell_type', cell_type), ('LR', LR), ('clip_value', clip_value))] = cp.deepcopy(net)\n",
        "    test_loss_dict [(('batch_size',batch_size),('hidden_size', hidden_size), ('cell_type', cell_type), ('LR', LR), ('clip_value', clip_value))] = cp.deepcopy(test_losses)\n",
        "    train_loss_dict[(('batch_size',batch_size),('hidden_size', hidden_size), ('cell_type', cell_type), ('LR', LR), ('clip_value', clip_value))] = cp.deepcopy(train_losses)\n",
        "\n",
        "    return accuracy_list[-1]          #Return the last value.\n",
        "\n",
        "study = optuna.create_study(direction='maximize')\n",
        "\n",
        "study.optimize(objective, n_trials=1) #3,5"
      ]
    },
    {
      "cell_type": "markdown",
      "metadata": {
        "id": "Q_Yg6oQp0Zlh"
      },
      "source": [
        "#Evaluating the networks"
      ]
    },
    {
      "cell_type": "markdown",
      "metadata": {
        "id": "frEUwyyf0kWK"
      },
      "source": [
        "## Learning Curve"
      ]
    },
    {
      "cell_type": "code",
      "source": [
        "def dict_to_tuple(input):\n",
        "    return tuple(zip(input.keys(), input.values()))"
      ],
      "metadata": {
        "id": "iTMYBa0QP4gQ"
      },
      "execution_count": 13,
      "outputs": []
    },
    {
      "cell_type": "code",
      "execution_count": 14,
      "metadata": {
        "colab": {
          "base_uri": "https://localhost:8080/",
          "height": 487
        },
        "id": "8B4FtzR0N8-w",
        "outputId": "27cdbfd5-1ee4-4631-c980-e509ba04fe29"
      },
      "outputs": [
        {
          "output_type": "display_data",
          "data": {
            "text/plain": [
              "<Figure size 1000x500 with 1 Axes>"
            ],
            "image/png": "[encoded data removed]"
          },
          "metadata": {}
        }
      ],
      "source": [
        "fig = plt.figure(figsize=(10,5))\n",
        "_   = plt.grid(which='major', linestyle='-')\n",
        "_   = plt.title('Learning Curve')\n",
        "_   = plt.plot(train_loss_dict[dict_to_tuple(study.best_trial.params)], label='train')\n",
        "_   = plt.plot(test_loss_dict[dict_to_tuple(study.best_trial.params)],  label='test')\n",
        "_   = plt.ylabel('Loss')\n",
        "_   = plt.xlabel('Epochs')\n",
        "_   = plt.legend()\n",
        "_   = plt.show()"
      ]
    },
    {
      "cell_type": "markdown",
      "metadata": {
        "id": "TjPhI4f50l7K"
      },
      "source": [
        "## Accuracy, Precision, Recall, F1-Measure"
      ]
    },
    {
      "cell_type": "code",
      "execution_count": 15,
      "metadata": {
        "id": "NuUhlsw5gm6K"
      },
      "outputs": [],
      "source": [
        "def test_model_output(model,x_test):\n",
        "    model.eval()\n",
        "\n",
        "    x_test = x_test.view(x_test.size(0), -1)\n",
        "    x_test = x_test[:,None,:]\n",
        "    y_pred = torch.round(model(x_test))\n",
        "    y_pred[y_pred < 0] = +0.0\n",
        "    y_pred[y_pred > 1] = 1 #Turn to bool.\n",
        "\n",
        "    return y_pred.flatten().detach().numpy()\n",
        "\n",
        "y_pred = test_model_output(net_dict[dict_to_tuple(study.best_trial.params)],x_test)"
      ]
    },
    {
      "cell_type": "code",
      "execution_count": 16,
      "metadata": {
        "id": "xQWHM7logxrc",
        "colab": {
          "base_uri": "https://localhost:8080/",
          "height": 465
        },
        "outputId": "84cce4e8-7fa6-420e-cc6c-500dcc055374"
      },
      "outputs": [
        {
          "output_type": "display_data",
          "data": {
            "text/plain": [
              "<Figure size 600x500 with 2 Axes>"
            ],
            "image/png": "[encoded data removed]"
          },
          "metadata": {}
        }
      ],
      "source": [
        "def confusion_matrix(y_test,y_pred):\n",
        "    cm_values = metrics.confusion_matrix(y_test,y_pred)\n",
        "    np.fill_diagonal(cm_values,cp.deepcopy(np.flip(cm_values.diagonal())))\n",
        "                        #The output is [[tn, fp], [fn, tp]],\n",
        "                        #but we need [[tp, fp], [fn, tn]],\n",
        "                        #so the diagonal is reversed.\n",
        "\n",
        "    names   = ['TP','FP','FN','TN']\n",
        "    counts  = ['{0:0.0f}'.format(value) for value in cm_values.flatten()]\n",
        "    percent = [' {0:.2%}'.format(value) for value in cm_values.flatten()/np.sum(cm_values)]\n",
        "    labels = [f\"{v1}\\n{v2}\\n{v3}\" for v1, v2, v3 in\n",
        "            zip(names,counts,percent)]\n",
        "    labels = np.asarray(labels).reshape(2,2)\n",
        "\n",
        "    fig, ax = plt.subplots(figsize=(6,5))\n",
        "    sns.set(font_scale=1.25)\n",
        "\n",
        "    r = sns.heatmap(cm_values,fmt='', linecolor='black',annot=labels,cmap='Blues',linewidths=1.5)\n",
        "\n",
        "    _ = r.set(xlabel='Actual',ylabel='Predicted')\n",
        "\n",
        "    return counts\n",
        "\n",
        "counts = confusion_matrix(y_test,y_pred)"
      ]
    },
    {
      "cell_type": "code",
      "execution_count": 17,
      "metadata": {
        "id": "a7iLrLx0U2xj",
        "colab": {
          "base_uri": "https://localhost:8080/"
        },
        "outputId": "af82e1f6-7c15-45c9-d7fc-935a961dc345"
      },
      "outputs": [
        {
          "output_type": "stream",
          "name": "stdout",
          "text": [
            "Recall    =  0.8211491169237648\n",
            "Precision =  0.8439797794117647\n",
            "Accuracy  =  0.8357031770717618\n",
            "F1-score  =  0.8324079320113315\n"
          ]
        }
      ],
      "source": [
        "def confusion_metrics(counts):\n",
        "    tp = int(counts[0])\n",
        "    fp = int(counts[1])\n",
        "    fn = int(counts[2])\n",
        "    tn = int(counts[3])\n",
        "\n",
        "    print(\"Recall    = \", tp / (tp + fn))\n",
        "    print(\"Precision = \", tp / (tp + fp))\n",
        "    print(\"Accuracy  = \",(tp + tn) / (tp + tn + fp + fn))\n",
        "    print(\"F1-score  = \",(2 * tp)  / ( 2 * tp + fp + fn))\n",
        "\n",
        "confusion_metrics(counts)"
      ]
    },
    {
      "cell_type": "markdown",
      "metadata": {
        "id": "pta0JH6e0sIr"
      },
      "source": [
        "## ROC-Curve"
      ]
    },
    {
      "cell_type": "code",
      "execution_count": 18,
      "metadata": {
        "id": "ZTj1XQhEn1ue",
        "colab": {
          "base_uri": "https://localhost:8080/",
          "height": 488
        },
        "outputId": "85a4abd3-766f-4011-f144-9a621369caa0"
      },
      "outputs": [
        {
          "output_type": "display_data",
          "data": {
            "text/plain": [
              "<Figure size 640x480 with 1 Axes>"
            ],
            "image/png": "[encoded data removed]"
          },
          "metadata": {}
        }
      ],
      "source": [
        "def Roc_Curve(y_test,y_pred):\n",
        "    false_positive_rate1, true_positive_rate1, threshold1 = roc_curve(y_test, y_pred)\n",
        "\n",
        "    plt.title('Receiver Operating Characteristic')\n",
        "    plt.plot(false_positive_rate1, true_positive_rate1)\n",
        "    plt.plot([0, 1], ls=\"--\")\n",
        "    plt.plot([0, 0], [1, 0] , c=\".7\")\n",
        "    plt.plot([1, 1] , c=\".7\")\n",
        "    plt.ylabel('True Positive Rate')\n",
        "    plt.xlabel('False Positive Rate')\n",
        "    plt.show()\n",
        "\n",
        "Roc_Curve(y_test,y_pred)"
      ]
    }
  ],
  "metadata": {
    "colab": {
      "collapsed_sections": [
        "1iwS6h_vWbC_",
        "JInot4mwWol8",
        "IJcP__YRc9d6"
      ],
      "provenance": [],
      "toc_visible": true
    },
    "kernelspec": {
      "display_name": "Python 3",
      "name": "python3"
    },
    "language_info": {
      "name": "python"
    }
  },
  "nbformat": 4,
  "nbformat_minor": 0
}