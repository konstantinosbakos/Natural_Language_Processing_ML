{
  "cells": [
    {
      "cell_type": "markdown",
      "metadata": {
        "id": "PRi3rNGrarhV"
      },
      "source": [
        "# Downloads"
      ]
    },
    {
      "cell_type": "code",
      "execution_count": 1,
      "metadata": {
        "colab": {
          "base_uri": "https://localhost:8080/"
        },
        "id": "T3ycU0MYaywa",
        "outputId": "a71605ec-6918-4917-e249-c55ca320c8a8"
      },
      "outputs": [
        {
          "name": "stdout",
          "output_type": "stream",
          "text": [
            "Downloading...\n",
            "From: https://docs.google.com/uc?export=download&id=1QDPNVVFwpXD6XhFJMTmxjQZ64Fntmvp_\n",
            "To: /content/imdb-reviews.csv.zip\n",
            "100% 24.6M/24.6M [00:00<00:00, 56.1MB/s]\n",
            "Archive:  imdb-reviews.csv.zip\n",
            "  inflating: imdb-reviews.csv        \n"
          ]
        }
      ],
      "source": [
        "!gdown 'https://docs.google.com/uc?export=download&id=1QDPNVVFwpXD6XhFJMTmxjQZ64Fntmvp_' #Fetch the dataset\n",
        "!unzip imdb-reviews.csv.zip"
      ]
    },
    {
      "cell_type": "markdown",
      "metadata": {
        "id": "Ezp0A6M2a0rf"
      },
      "source": [
        "# Imports"
      ]
    },
    {
      "cell_type": "code",
      "execution_count": 2,
      "metadata": {
        "id": "QcwPYGtla3Ix"
      },
      "outputs": [],
      "source": [
        "from sklearn                         import metrics\n",
        "from nltk.tokenize                   import RegexpTokenizer\n",
        "from sklearn.linear_model            import LogisticRegression\n",
        "from sklearn.model_selection         import GridSearchCV\n",
        "from sklearn.model_selection         import learning_curve\n",
        "from sklearn.model_selection         import train_test_split\n",
        "from sklearn.model_selection         import RepeatedStratifiedKFold\n",
        "from sklearn.feature_extraction.text import CountVectorizer\n",
        "from sklearn.feature_extraction.text import TfidfVectorizer\n",
        "\n",
        "import os\n",
        "import copy              as cp\n",
        "import numpy             as np\n",
        "import pandas            as pd\n",
        "import seaborn           as sns\n",
        "import multiprocessing\n",
        "import matplotlib.pyplot as plt"
      ]
    },
    {
      "cell_type": "markdown",
      "metadata": {
        "id": "jI1H3TV-bPR_"
      },
      "source": [
        "# Data Preprocessing"
      ]
    },
    {
      "cell_type": "markdown",
      "metadata": {
        "id": "IJcP__YRc9d6"
      },
      "source": [
        "## Convert the ratings to Boolean"
      ]
    },
    {
      "cell_type": "code",
      "execution_count": 3,
      "metadata": {
        "colab": {
          "base_uri": "https://localhost:8080/",
          "height": 206
        },
        "id": "WYvLwZpq-Cif",
        "outputId": "f84edc66-5e44-4cea-fb99-9edc3b76563e"
      },
      "outputs": [
        {
          "data": {
            "application/vnd.google.colaboratory.intrinsic+json": {
              "summary": "{\n  \"name\": \"df\",\n  \"rows\": 45008,\n  \"fields\": [\n    {\n      \"column\": \"url\",\n      \"properties\": {\n        \"dtype\": \"category\",\n        \"num_unique_values\": 5057,\n        \"samples\": [\n          \"http://www.imdb.com/title/tt0235918/usercomments\",\n          \"http://www.imdb.com/title/tt0203523/usercomments\",\n          \"http://www.imdb.com/title/tt0448075/usercomments\"\n        ],\n        \"semantic_type\": \"\",\n        \"description\": \"\"\n      }\n    },\n    {\n      \"column\": \"rating\",\n      \"properties\": {\n        \"dtype\": \"number\",\n        \"std\": 0.5000055467621549,\n        \"min\": 0.0,\n        \"max\": 1.0,\n        \"num_unique_values\": 2,\n        \"samples\": [\n          0.0,\n          1.0\n        ],\n        \"semantic_type\": \"\",\n        \"description\": \"\"\n      }\n    },\n    {\n      \"column\": \"review\",\n      \"properties\": {\n        \"dtype\": \"string\",\n        \"num_unique_values\": 44670,\n        \"samples\": [\n          \"One of the most definitive gangster films of the 80's, Scarface is very much a film of its time. The first thing you notice when you watch this film is that it is screaming at you, 'made in 1983'. The costumes, the music score and soundtrack, the hairstyles, make no mistake about it this is a film all about crime in the 80's and while it should have dated horribly it hasn't. This is still a superb film. While Georgio Moroder's music has dated a fair bit, it still compliments the story of Tony Montana well thanks to the superb screenplay by Oliver Stone and the first class direction of Brian De Palma, one of two films that he has made with Pacino (the other being the fantastic Carlito's Way). All of De Palma's trademarks are here; the strong language, the graphic violence (more on that later), the stylish excesses such as grandiose set pieces and of course the stylish camera work.<br /><br />Pacino dominates the film and I mean that literally. He is the dominant star of this film. His performance over the top, this is one of those films were Pacino doesn't so much say his lines as he does shouts them, this time with a superb Cuban accent. However, this is Pacino and he does it fantastically. Only he could go this far over the top and still come away from the film with his acting integrity in tact. While some may complain about his shouting of his lines and the sheer excess of it all, this is an excessive film. Take a look at the production design of Tony's house, take a look at the violence in this film. The chainsaw incident is downright brutal and their is blood everywhere. The shoot out at the end has bodies going down at a rate that is more akin to Schwarzenegger and Stallone in the Rambo films. Take a look at the amount of coke that is displayed in the film so Pacino's performance I suppose is perfect for the film. He is supported by actors who are more akin to saying their lines in a more controlled way. Steven Bauer, in particularly, as Manny, Tony's best friend, is the stand out of the supporting cast. His performance is so controlled and quiet in a De Niro sort of way it is a wonder how he ended up doing straight to video soft porn. Michelle Pfeiffer, of course, adds the glamor, Robert Loggia adds gravitas as usual and Mary Elizabeth Mastrantonio makes a great debut as Tony's sister.<br /><br />Of course this is more than just a film about excess. There is more to it than drugs, violence, chainsaw assaults and a big great shoot out. This is a film about the darker side of the American dream. In many ways it puts it on a thematic par with The Godfather films. Tony finds himself coming to America, getting it all, living the American dream and then losing it all in violent fashion, and by saying he loses it all, I mean he loses it all. He kills his best friend, his sister is killed, his empire crumbles, literally, around him and to top it of he is killed in his own mansion, bullets ripping through him. <br /><br />Without doubt Scarface is one of the key films of the early 80's. Sure, it doesn't have the subtleties of The Godfather films, but this is still a fine film and one that is worth going to again and again.\",\n          \"A good story, well-acted with unexpected character twists eg. vicious murderous gangster Bryan Brown teaching his son macrame. Although it succeeds as an action drama where you hope the good guy (Ledger) and his gilrfriend succeed, it also has some hilarious ironic black humour eg. the bank robbers who become radio competition \\\"winners\\\" and their reaction, the busker's revenge etc. Well worth watching.\"\n        ],\n        \"semantic_type\": \"\",\n        \"description\": \"\"\n      }\n    }\n  ]\n}",
              "type": "dataframe",
              "variable_name": "df"
            },
            "text/html": [
              "\n",
              "  <div id=\"df-6b1b613c-092f-44f8-a189-7d96d82c4305\" class=\"colab-df-container\">\n",
              "    <div>\n",
              "<style scoped>\n",
              "    .dataframe tbody tr th:only-of-type {\n",
              "        vertical-align: middle;\n",
              "    }\n",
              "\n",
              "    .dataframe tbody tr th {\n",
              "        vertical-align: top;\n",
              "    }\n",
              "\n",
              "    .dataframe thead th {\n",
              "        text-align: right;\n",
              "    }\n",
              "</style>\n",
              "<table border=\"1\" class=\"dataframe\">\n",
              "  <thead>\n",
              "    <tr style=\"text-align: right;\">\n",
              "      <th></th>\n",
              "      <th>url</th>\n",
              "      <th>rating</th>\n",
              "      <th>review</th>\n",
              "    </tr>\n",
              "  </thead>\n",
              "  <tbody>\n",
              "    <tr>\n",
              "      <th>0</th>\n",
              "      <td>http://www.imdb.com/title/tt0120623/usercomments</td>\n",
              "      <td>1.0</td>\n",
              "      <td>I thought this was a quiet good movie. It was ...</td>\n",
              "    </tr>\n",
              "    <tr>\n",
              "      <th>1</th>\n",
              "      <td>http://www.imdb.com/title/tt0043117/usercomments</td>\n",
              "      <td>1.0</td>\n",
              "      <td>Wagon Master is a very unique film amongst Joh...</td>\n",
              "    </tr>\n",
              "    <tr>\n",
              "      <th>2</th>\n",
              "      <td>http://www.imdb.com/title/tt0043117/usercomments</td>\n",
              "      <td>1.0</td>\n",
              "      <td>This film has to be as near to perfect a film ...</td>\n",
              "    </tr>\n",
              "    <tr>\n",
              "      <th>3</th>\n",
              "      <td>http://www.imdb.com/title/tt0835204/usercomments</td>\n",
              "      <td>0.0</td>\n",
              "      <td>I gave this 4 stars because it has a lot of in...</td>\n",
              "    </tr>\n",
              "    <tr>\n",
              "      <th>4</th>\n",
              "      <td>http://www.imdb.com/title/tt0499603/usercomments</td>\n",
              "      <td>1.0</td>\n",
              "      <td>This movie is really genuine and random. It's ...</td>\n",
              "    </tr>\n",
              "  </tbody>\n",
              "</table>\n",
              "</div>\n",
              "    <div class=\"colab-df-buttons\">\n",
              "\n",
              "  <div class=\"colab-df-container\">\n",
              "    <button class=\"colab-df-convert\" onclick=\"convertToInteractive('df-6b1b613c-092f-44f8-a189-7d96d82c4305')\"\n",
              "            title=\"Convert this dataframe to an interactive table.\"\n",
              "            style=\"display:none;\">\n",
              "\n",
              "  <svg xmlns=\"http://www.w3.org/2000/svg\" height=\"24px\" viewBox=\"0 -960 960 960\">\n",
              "    <path d=\"M120-120v-720h720v720H120Zm60-500h600v-160H180v160Zm220 220h160v-160H400v160Zm0 220h160v-160H400v160ZM180-400h160v-160H180v160Zm440 0h160v-160H620v160ZM180-180h160v-160H180v160Zm440 0h160v-160H620v160Z\"/>\n",
              "  </svg>\n",
              "    </button>\n",
              "\n",
              "  <style>\n",
              "    .colab-df-container {\n",
              "      display:flex;\n",
              "      gap: 12px;\n",
              "    }\n",
              "\n",
              "    .colab-df-convert {\n",
              "      background-color: #E8F0FE;\n",
              "      border: none;\n",
              "      border-radius: 50%;\n",
              "      cursor: pointer;\n",
              "      display: none;\n",
              "      fill: #1967D2;\n",
              "      height: 32px;\n",
              "      padding: 0 0 0 0;\n",
              "      width: 32px;\n",
              "    }\n",
              "\n",
              "    .colab-df-convert:hover {\n",
              "      background-color: #E2EBFA;\n",
              "      box-shadow: 0px 1px 2px rgba(60, 64, 67, 0.3), 0px 1px 3px 1px rgba(60, 64, 67, 0.15);\n",
              "      fill: #174EA6;\n",
              "    }\n",
              "\n",
              "    .colab-df-buttons div {\n",
              "      margin-bottom: 4px;\n",
              "    }\n",
              "\n",
              "    [theme=dark] .colab-df-convert {\n",
              "      background-color: #3B4455;\n",
              "      fill: #D2E3FC;\n",
              "    }\n",
              "\n",
              "    [theme=dark] .colab-df-convert:hover {\n",
              "      background-color: #434B5C;\n",
              "      box-shadow: 0px 1px 3px 1px rgba(0, 0, 0, 0.15);\n",
              "      filter: drop-shadow(0px 1px 2px rgba(0, 0, 0, 0.3));\n",
              "      fill: #FFFFFF;\n",
              "    }\n",
              "  </style>\n",
              "\n",
              "    <script>\n",
              "      const buttonEl =\n",
              "        document.querySelector('#df-6b1b613c-092f-44f8-a189-7d96d82c4305 button.colab-df-convert');\n",
              "      buttonEl.style.display =\n",
              "        google.colab.kernel.accessAllowed ? 'block' : 'none';\n",
              "\n",
              "      async function convertToInteractive(key) {\n",
              "        const element = document.querySelector('#df-6b1b613c-092f-44f8-a189-7d96d82c4305');\n",
              "        const dataTable =\n",
              "          await google.colab.kernel.invokeFunction('convertToInteractive',\n",
              "                                                    [key], {});\n",
              "        if (!dataTable) return;\n",
              "\n",
              "        const docLinkHtml = 'Like what you see? Visit the ' +\n",
              "          '<a target=\"_blank\" href=https://colab.research.google.com/notebooks/data_table.ipynb>data table notebook</a>'\n",
              "          + ' to learn more about interactive tables.';\n",
              "        element.innerHTML = '';\n",
              "        dataTable['output_type'] = 'display_data';\n",
              "        await google.colab.output.renderOutput(dataTable, element);\n",
              "        const docLink = document.createElement('div');\n",
              "        docLink.innerHTML = docLinkHtml;\n",
              "        element.appendChild(docLink);\n",
              "      }\n",
              "    </script>\n",
              "  </div>\n",
              "\n",
              "\n",
              "<div id=\"df-fb3e3256-bf8b-44e9-911a-57a34cd61908\">\n",
              "  <button class=\"colab-df-quickchart\" onclick=\"quickchart('df-fb3e3256-bf8b-44e9-911a-57a34cd61908')\"\n",
              "            title=\"Suggest charts\"\n",
              "            style=\"display:none;\">\n",
              "\n",
              "<svg xmlns=\"http://www.w3.org/2000/svg\" height=\"24px\"viewBox=\"0 0 24 24\"\n",
              "     width=\"24px\">\n",
              "    <g>\n",
              "        <path d=\"M19 3H5c-1.1 0-2 .9-2 2v14c0 1.1.9 2 2 2h14c1.1 0 2-.9 2-2V5c0-1.1-.9-2-2-2zM9 17H7v-7h2v7zm4 0h-2V7h2v10zm4 0h-2v-4h2v4z\"/>\n",
              "    </g>\n",
              "</svg>\n",
              "  </button>\n",
              "\n",
              "<style>\n",
              "  .colab-df-quickchart {\n",
              "      --bg-color: #E8F0FE;\n",
              "      --fill-color: #1967D2;\n",
              "      --hover-bg-color: #E2EBFA;\n",
              "      --hover-fill-color: #174EA6;\n",
              "      --disabled-fill-color: #AAA;\n",
              "      --disabled-bg-color: #DDD;\n",
              "  }\n",
              "\n",
              "  [theme=dark] .colab-df-quickchart {\n",
              "      --bg-color: #3B4455;\n",
              "      --fill-color: #D2E3FC;\n",
              "      --hover-bg-color: #434B5C;\n",
              "      --hover-fill-color: #FFFFFF;\n",
              "      --disabled-bg-color: #3B4455;\n",
              "      --disabled-fill-color: #666;\n",
              "  }\n",
              "\n",
              "  .colab-df-quickchart {\n",
              "    background-color: var(--bg-color);\n",
              "    border: none;\n",
              "    border-radius: 50%;\n",
              "    cursor: pointer;\n",
              "    display: none;\n",
              "    fill: var(--fill-color);\n",
              "    height: 32px;\n",
              "    padding: 0;\n",
              "    width: 32px;\n",
              "  }\n",
              "\n",
              "  .colab-df-quickchart:hover {\n",
              "    background-color: var(--hover-bg-color);\n",
              "    box-shadow: 0 1px 2px rgba(60, 64, 67, 0.3), 0 1px 3px 1px rgba(60, 64, 67, 0.15);\n",
              "    fill: var(--button-hover-fill-color);\n",
              "  }\n",
              "\n",
              "  .colab-df-quickchart-complete:disabled,\n",
              "  .colab-df-quickchart-complete:disabled:hover {\n",
              "    background-color: var(--disabled-bg-color);\n",
              "    fill: var(--disabled-fill-color);\n",
              "    box-shadow: none;\n",
              "  }\n",
              "\n",
              "  .colab-df-spinner {\n",
              "    border: 2px solid var(--fill-color);\n",
              "    border-color: transparent;\n",
              "    border-bottom-color: var(--fill-color);\n",
              "    animation:\n",
              "      spin 1s steps(1) infinite;\n",
              "  }\n",
              "\n",
              "  @keyframes spin {\n",
              "    0% {\n",
              "      border-color: transparent;\n",
              "      border-bottom-color: var(--fill-color);\n",
              "      border-left-color: var(--fill-color);\n",
              "    }\n",
              "    20% {\n",
              "      border-color: transparent;\n",
              "      border-left-color: var(--fill-color);\n",
              "      border-top-color: var(--fill-color);\n",
              "    }\n",
              "    30% {\n",
              "      border-color: transparent;\n",
              "      border-left-color: var(--fill-color);\n",
              "      border-top-color: var(--fill-color);\n",
              "      border-right-color: var(--fill-color);\n",
              "    }\n",
              "    40% {\n",
              "      border-color: transparent;\n",
              "      border-right-color: var(--fill-color);\n",
              "      border-top-color: var(--fill-color);\n",
              "    }\n",
              "    60% {\n",
              "      border-color: transparent;\n",
              "      border-right-color: var(--fill-color);\n",
              "    }\n",
              "    80% {\n",
              "      border-color: transparent;\n",
              "      border-right-color: var(--fill-color);\n",
              "      border-bottom-color: var(--fill-color);\n",
              "    }\n",
              "    90% {\n",
              "      border-color: transparent;\n",
              "      border-bottom-color: var(--fill-color);\n",
              "    }\n",
              "  }\n",
              "</style>\n",
              "\n",
              "  <script>\n",
              "    async function quickchart(key) {\n",
              "      const quickchartButtonEl =\n",
              "        document.querySelector('#' + key + ' button');\n",
              "      quickchartButtonEl.disabled = true;  // To prevent multiple clicks.\n",
              "      quickchartButtonEl.classList.add('colab-df-spinner');\n",
              "      try {\n",
              "        const charts = await google.colab.kernel.invokeFunction(\n",
              "            'suggestCharts', [key], {});\n",
              "      } catch (error) {\n",
              "        console.error('Error during call to suggestCharts:', error);\n",
              "      }\n",
              "      quickchartButtonEl.classList.remove('colab-df-spinner');\n",
              "      quickchartButtonEl.classList.add('colab-df-quickchart-complete');\n",
              "    }\n",
              "    (() => {\n",
              "      let quickchartButtonEl =\n",
              "        document.querySelector('#df-fb3e3256-bf8b-44e9-911a-57a34cd61908 button');\n",
              "      quickchartButtonEl.style.display =\n",
              "        google.colab.kernel.accessAllowed ? 'block' : 'none';\n",
              "    })();\n",
              "  </script>\n",
              "</div>\n",
              "\n",
              "    </div>\n",
              "  </div>\n"
            ],
            "text/plain": [
              "                                                url  rating  \\\n",
              "0  http://www.imdb.com/title/tt0120623/usercomments     1.0   \n",
              "1  http://www.imdb.com/title/tt0043117/usercomments     1.0   \n",
              "2  http://www.imdb.com/title/tt0043117/usercomments     1.0   \n",
              "3  http://www.imdb.com/title/tt0835204/usercomments     0.0   \n",
              "4  http://www.imdb.com/title/tt0499603/usercomments     1.0   \n",
              "\n",
              "                                              review  \n",
              "0  I thought this was a quiet good movie. It was ...  \n",
              "1  Wagon Master is a very unique film amongst Joh...  \n",
              "2  This film has to be as near to perfect a film ...  \n",
              "3  I gave this 4 stars because it has a lot of in...  \n",
              "4  This movie is really genuine and random. It's ...  "
            ]
          },
          "execution_count": 3,
          "metadata": {},
          "output_type": "execute_result"
        }
      ],
      "source": [
        "df        = pd.read_csv('imdb-reviews.csv',sep='\\t')\n",
        "df.rating = df.rating.replace([0,1,2,3,4],0) #0 for the negative reviews\n",
        "df.rating = df.rating.replace([7,8,9,10],1)  #1 for the positive reviews\n",
        "\n",
        "df.head(5)"
      ]
    },
    {
      "cell_type": "markdown",
      "metadata": {
        "id": "2_QKFUM-drJ-"
      },
      "source": [
        "## Check if the dataset is balanced"
      ]
    },
    {
      "cell_type": "code",
      "execution_count": 4,
      "metadata": {
        "colab": {
          "base_uri": "https://localhost:8080/"
        },
        "id": "WFL0FaGbdGjQ",
        "outputId": "f81210ca-c0fd-4264-ab7c-7baebefb0bdf"
      },
      "outputs": [
        {
          "name": "stdout",
          "output_type": "stream",
          "text": [
            "The positive reviews are  50.01 \b% of the dataset.\n"
          ]
        }
      ],
      "source": [
        "num = (df[df.rating == 1].rating.count()/df.rating.count()) * 100\n",
        "\n",
        "print('The positive reviews are ', f'{num:.2f}', '\\b% of the dataset.')"
      ]
    },
    {
      "cell_type": "markdown",
      "metadata": {
        "id": "IZi274x_dxEv"
      },
      "source": [
        "## Tokenization and Vectorization of the reviews"
      ]
    },
    {
      "cell_type": "code",
      "execution_count": 14,
      "metadata": {
        "colab": {
          "base_uri": "https://localhost:8080/"
        },
        "id": "BZ7-vvFCqkql",
        "outputId": "9e2accd9-6eed-42c6-f2a0-29636d04b5be"
      },
      "outputs": [
        {
          "name": "stdout",
          "output_type": "stream",
          "text": [
            "CountVectorizer(binary=True, max_features=10000, ngram_range=(1, 2),\n",
            "                stop_words='english', token_pattern=None,\n",
            "                tokenizer=<bound method RegexpTokenizer.tokenize of RegexpTokenizer(pattern='[a-zA-Z0-9]+', gaps=False, discard_empty=True, flags=re.UNICODE|re.MULTILINE|re.DOTALL)>)\n",
            "TfidfVectorizer(binary=True, max_features=10000, ngram_range=(1, 2),\n",
            "                stop_words='english', token_pattern=None,\n",
            "                tokenizer=<bound method RegexpTokenizer.tokenize of RegexpTokenizer(pattern='[a-zA-Z0-9]+', gaps=False, discard_empty=True, flags=re.UNICODE|re.MULTILINE|re.DOTALL)>)\n",
            "CountVectorizer(binary=True, max_features=10000, ngram_range=(2, 2),\n",
            "                stop_words='english', token_pattern=None,\n",
            "                tokenizer=<bound method RegexpTokenizer.tokenize of RegexpTokenizer(pattern='[a-zA-Z0-9]+', gaps=False, discard_empty=True, flags=re.UNICODE|re.MULTILINE|re.DOTALL)>)\n",
            "TfidfVectorizer(binary=True, max_features=10000, ngram_range=(2, 2),\n",
            "                stop_words='english', token_pattern=None,\n",
            "                tokenizer=<bound method RegexpTokenizer.tokenize of RegexpTokenizer(pattern='[a-zA-Z0-9]+', gaps=False, discard_empty=True, flags=re.UNICODE|re.MULTILINE|re.DOTALL)>)\n"
          ]
        }
      ],
      "source": [
        "reg_token   = RegexpTokenizer(r'[a-zA-Z0-9]+') #Used to remove unwanted characters from the reviews (Keep only numbers and letters).\n",
        "vectorizers = []                               #Used to save all the data vectorizing configurations.\n",
        "\n",
        "for i in range(0,2):\n",
        "    ngram   = i + 1\n",
        "\n",
        "    vectorizers.append(  CountVectorizer(stop_words='english',\n",
        "                                         ngram_range=(ngram,2),tokenizer=reg_token.tokenize,\n",
        "                                         token_pattern=None,max_features=10000,binary=True))\n",
        "    vectorizers.append(  TfidfVectorizer(stop_words='english',\n",
        "                                         ngram_range=(ngram,2),tokenizer=reg_token.tokenize,\n",
        "                                         token_pattern=None,max_features=10000,binary=True))\n",
        "\n",
        "for vect in vectorizers:\n",
        "    print(vect)"
      ]
    },
    {
      "cell_type": "markdown",
      "metadata": {
        "id": "MrZ6sw0Meq0p"
      },
      "source": [
        "## Transform the data according to each vectorization method"
      ]
    },
    {
      "cell_type": "code",
      "execution_count": 6,
      "metadata": {
        "id": "QYb588gCev12"
      },
      "outputs": [],
      "source": [
        "fitted_reviews = []\n",
        "\n",
        "for vect in vectorizers:\n",
        "    fitted_reviews.append(vect.fit_transform(df.review))"
      ]
    },
    {
      "cell_type": "markdown",
      "metadata": {
        "id": "FtuZzeutd1ow"
      },
      "source": [
        "## Create the train and test sets"
      ]
    },
    {
      "cell_type": "code",
      "execution_count": 7,
      "metadata": {
        "id": "B1UUzAlTJ5Dr"
      },
      "outputs": [],
      "source": [
        "train_test_split_list = [] #Save the train-test splits for each data preprocessing configuration\n",
        "\n",
        "for fit_rev in fitted_reviews:\n",
        "    x_train, x_test, y_train, y_test = train_test_split(fit_rev,df.rating, test_size=0.2, random_state=12345)\n",
        "                           #80% train and 20% test sizes\n",
        "    train_test_split_list.append((x_train, x_test, y_train, y_test))"
      ]
    },
    {
      "cell_type": "markdown",
      "metadata": {
        "id": "sfeVdNfYfXxL"
      },
      "source": [
        "# Defining the model"
      ]
    },
    {
      "cell_type": "code",
      "execution_count": 8,
      "metadata": {
        "id": "4nQ8lFPmfgBi"
      },
      "outputs": [],
      "source": [
        "solvers         = ['liblinear']\n",
        "penalty         = ['l1', 'l2']\n",
        "c_values        = [1.0, 0.5]\n",
        "tol_values      = [0.5, 0.1]\n",
        "\n",
        "parameters      = dict(solver=solvers,penalty=penalty,C=c_values,tol=tol_values)\n",
        "grid_cv         = RepeatedStratifiedKFold(n_splits=10, n_repeats=10, random_state=12345)\n",
        "model           = LogisticRegression()\n",
        "\n",
        "grid_parameters = dict(estimator=model, param_grid=parameters,\n",
        "                       n_jobs=multiprocessing.cpu_count(), cv=grid_cv, scoring='f1',\n",
        "                       error_score='raise')"
      ]
    },
    {
      "cell_type": "markdown",
      "metadata": {
        "id": "UWRN7uvpfwL5"
      },
      "source": [
        "# Fitting the model"
      ]
    },
    {
      "cell_type": "code",
      "execution_count": 9,
      "metadata": {
        "colab": {
          "base_uri": "https://localhost:8080/"
        },
        "id": "3YtYZiUZfx_0",
        "outputId": "f3a18465-2f4e-49e8-ce31-03984dfb4736"
      },
      "outputs": [
        {
          "name": "stdout",
          "output_type": "stream",
          "text": [
            "Best: 0.90257 (f1 mean) using {'C': 1.0, 'penalty': 'l2', 'solver': 'liblinear', 'tol': 0.5} \b.\n",
            "Used the vectorizer with configuration: TfidfVectorizer(binary=True, max_features=10000, ngram_range=(1, 2),\n",
            "                stop_words='english', token_pattern=None,\n",
            "                tokenizer=<bound method RegexpTokenizer.tokenize of RegexpTokenizer(pattern='[a-zA-Z0-9]+', gaps=False, discard_empty=True, flags=re.UNICODE|re.MULTILINE|re.DOTALL)>)\n"
          ]
        }
      ],
      "source": [
        "best_grid = None                                             #Save the best hyperparameter combination.\n",
        "                                                             #best_grid = (train_test_split,grid_configuration,vectorizer_configuration)\n",
        "for i,tts in enumerate(train_test_split_list):\n",
        "    grid_search = GridSearchCV(**grid_parameters)\n",
        "    grid_result = grid_search.fit(tts[0], tts[2])            #x_train, y_train\n",
        "\n",
        "    if best_grid == None:\n",
        "        best_grid = (tts,cp.deepcopy(grid_result),vectorizers[i])\n",
        "    elif grid_result.best_score_ > best_grid[1].best_score_: #Save the one with the best mean (f1) score.\n",
        "        best_grid = (tts,cp.deepcopy(grid_result),vectorizers[i])\n",
        "\n",
        "print('Best:', f'{best_grid[1].best_score_:.5f}', '(f1 mean) using', best_grid[1].best_params_, '\\b.')\n",
        "print('Used the vectorizer with configuration:', best_grid[2])"
      ]
    },
    {
      "cell_type": "markdown",
      "metadata": {
        "id": "OSXCLa5sqKZ0"
      },
      "source": [
        "# Evaluating the model"
      ]
    },
    {
      "cell_type": "markdown",
      "metadata": {
        "id": "l9cT6VqHq9Ix"
      },
      "source": [
        "## Learning Curve"
      ]
    },
    {
      "cell_type": "code",
      "execution_count": 10,
      "metadata": {
        "id": "841pctE-qd4c"
      },
      "outputs": [],
      "source": [
        "tts    = best_grid[0] #train-test split selected.\n",
        "gridCV = best_grid[1] #Best grid result.\n",
        "\n",
        "train_size,train_score,test_score = learning_curve(LogisticRegression(**gridCV.best_params_),\n",
        "                                                   tts[0],tts[2],scoring='f1',n_jobs=multiprocessing.cpu_count(),\n",
        "                                                   random_state=12345,cv=grid_cv)"
      ]
    },
    {
      "cell_type": "code",
      "execution_count": 16,
      "metadata": {
        "colab": {
          "base_uri": "https://localhost:8080/",
          "height": 446
        },
        "id": "Fj9vOYKjriQk",
        "outputId": "becdfec6-ac92-4864-e64e-3bd6eb76880b"
      },
      "outputs": [
        {
          "name": "stdout",
          "output_type": "stream",
          "text": [
            "The mean train scores are: [0.95517073 0.94333911 0.93554939 0.93493448 0.93386705] \b.\n",
            "The mean test  scores are: [0.8752746  0.89196746 0.89750248 0.9001069  0.90258468] \b.\n"
          ]
        },
        {
          "data": {
            "image/png": "[encoded data removed]",
            "text/plain": [
              "<Figure size 600x400 with 1 Axes>"
            ]
          },
          "metadata": {},
          "output_type": "display_data"
        }
      ],
      "source": [
        "fig = plt.figure(figsize=(6,4))\n",
        "\n",
        "mean_train = np.mean(train_score,axis=1)\n",
        "mean_test  = np.mean(test_score, axis=1)\n",
        "\n",
        "line1, = plt.plot(train_size,mean_train, label='train')\n",
        "line2, = plt.plot(train_size,mean_test , label='test' )\n",
        "\n",
        "_ = plt.ylim(0.8,1)\n",
        "_ = plt.grid(True)\n",
        "_ = plt.xlabel('Train Size')\n",
        "_ = plt.ylabel('Scoring (f1)')\n",
        "_ = plt.rcParams.update({'font.size': 8})\n",
        "_ = plt.legend(handles=[line1, line2],loc='best')\n",
        "\n",
        "print('The mean train scores are:', mean_train, '\\b.')\n",
        "print('The mean test  scores are:', mean_test , '\\b.')"
      ]
    },
    {
      "cell_type": "markdown",
      "metadata": {
        "id": "FOqBY0bms9Pn"
      },
      "source": [
        "## Confusion Matrix"
      ]
    },
    {
      "cell_type": "code",
      "execution_count": 12,
      "metadata": {
        "colab": {
          "base_uri": "https://localhost:8080/",
          "height": 457
        },
        "id": "Wy4NY5P0tG9o",
        "outputId": "e879dda8-2228-4c52-dfed-144bc25b34f2"
      },
      "outputs": [
        {
          "data": {
            "image/png": "[encoded data removed]",
            "text/plain": [
              "<Figure size 600x500 with 2 Axes>"
            ]
          },
          "metadata": {},
          "output_type": "display_data"
        }
      ],
      "source": [
        "tts    = best_grid[0] #train-test split selected.\n",
        "gridCV = best_grid[1] #Best grid result.\n",
        "\n",
        "predicted = gridCV.predict(tts[1])\n",
        "\n",
        "cm_values = metrics.confusion_matrix(tts[3],predicted)\n",
        "np.fill_diagonal(cm_values,cp.deepcopy(np.flip(cm_values.diagonal())))\n",
        "                      #The output is [[tn, fp], [fn, tp]],\n",
        "                      #but we need [[tp, fp], [fn, tn]],\n",
        "                      #so we reverse the diagonal.\n",
        "\n",
        "names   = ['TP','FP','FN','TN']\n",
        "counts  = ['{0:0.0f}'.format(value) for value in cm_values.flatten()]\n",
        "percent = [' {0:.2%}'.format(value) for value in cm_values.flatten()/np.sum(cm_values)]\n",
        "labels = [f\"{v1}\\n{v2}\\n{v3}\" for v1, v2, v3 in\n",
        "        zip(names,counts,percent)]\n",
        "labels = np.asarray(labels).reshape(2,2)\n",
        "\n",
        "fig, ax = plt.subplots(figsize=(6,5))\n",
        "sns.set(font_scale=1.25)\n",
        "\n",
        "r = sns.heatmap(cm_values,fmt='', linecolor='black',annot=labels,cmap='Blues',linewidths=1.5)\n",
        "\n",
        "_ = r.set(xlabel='Actual',ylabel='Predicted')"
      ]
    },
    {
      "cell_type": "markdown",
      "metadata": {
        "id": "RFAm7h9DtInk"
      },
      "source": [
        "## F1 score"
      ]
    },
    {
      "cell_type": "code",
      "execution_count": 13,
      "metadata": {
        "colab": {
          "base_uri": "https://localhost:8080/"
        },
        "id": "lhZpPZ0ptKZw",
        "outputId": "d4a493ca-2feb-458c-ef11-ce38828dad81"
      },
      "outputs": [
        {
          "name": "stdout",
          "output_type": "stream",
          "text": [
            "The F1 score for the best configuration is: 0.90847 \b.\n"
          ]
        }
      ],
      "source": [
        "num = metrics.f1_score(best_grid[0][3],predicted)\n",
        "\n",
        "print('The F1 score for the best configuration is:',f'{num:.5f}','\\b.')"
      ]
    }
  ],
  "metadata": {
    "colab": {
      "collapsed_sections": [
        "PRi3rNGrarhV",
        "Ezp0A6M2a0rf",
        "SAEXafSof7v8"
      ],
      "provenance": [],
      "toc_visible": true
    },
    "kernelspec": {
      "display_name": "Python 3",
      "name": "python3"
    },
    "language_info": {
      "name": "python"
    }
  },
  "nbformat": 4,
  "nbformat_minor": 0
}
